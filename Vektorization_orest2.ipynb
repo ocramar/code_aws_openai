{
 "cells": [
  {
   "cell_type": "code",
   "execution_count": 2,
   "id": "c273b91d",
   "metadata": {},
   "outputs": [
    {
     "name": "stderr",
     "output_type": "stream",
     "text": [
      "Ignoring wrong pointing object 8 0 (offset 0)\n",
      "Ignoring wrong pointing object 10 0 (offset 0)\n",
      "Ignoring wrong pointing object 12 0 (offset 0)\n",
      "Ignoring wrong pointing object 14 0 (offset 0)\n",
      "Ignoring wrong pointing object 29 0 (offset 0)\n",
      "Ignoring wrong pointing object 31 0 (offset 0)\n",
      "Ignoring wrong pointing object 33 0 (offset 0)\n",
      "Ignoring wrong pointing object 40 0 (offset 0)\n",
      "Ignoring wrong pointing object 48 0 (offset 0)\n",
      "Ignoring wrong pointing object 50 0 (offset 0)\n",
      "Ignoring wrong pointing object 65 0 (offset 0)\n",
      "Ignoring wrong pointing object 79 0 (offset 0)\n",
      "Ignoring wrong pointing object 84 0 (offset 0)\n",
      "Ignoring wrong pointing object 86 0 (offset 0)\n",
      "Ignoring wrong pointing object 91 0 (offset 0)\n",
      "Ignoring wrong pointing object 93 0 (offset 0)\n",
      "Ignoring wrong pointing object 98 0 (offset 0)\n",
      "Ignoring wrong pointing object 101 0 (offset 0)\n",
      "C:\\Endava\\EndevLocal\\AppData\\Local\\Temp\\ipykernel_2304\\1426085587.py:15: LangChainDeprecationWarning: The class `HuggingFaceEmbeddings` was deprecated in LangChain 0.2.2 and will be removed in 1.0. An updated version of the class exists in the :class:`~langchain-huggingface package and should be used instead. To use it run `pip install -U :class:`~langchain-huggingface` and import as `from :class:`~langchain_huggingface import HuggingFaceEmbeddings``.\n",
      "  embedding_function = HuggingFaceEmbeddings(model_name=\"all-MiniLM-L6-v2\")\n"
     ]
    }
   ],
   "source": [
    "from langchain.text_splitter import RecursiveCharacterTextSplitter\n",
    "from langchain_chroma import Chroma\n",
    "from langchain_community.document_loaders import PyPDFLoader\n",
    "from langchain_community.embeddings import HuggingFaceEmbeddings\n",
    "import os\n",
    "\n",
    "# Load and split PDF\n",
    "loader = PyPDFLoader('Chapter_17_Chemical_carcinogens.pdf')\n",
    "data = loader.load()\n",
    "\n",
    "splitter = RecursiveCharacterTextSplitter(chunk_size=1500, chunk_overlap=100)\n",
    "docs = splitter.split_documents(data)\n",
    "\n",
    "# Embed and persist\n",
    "embedding_function = HuggingFaceEmbeddings(model_name=\"all-MiniLM-L6-v2\")\n",
    "vectorstore = Chroma.from_documents(docs, embedding=embedding_function, persist_directory=os.getcwd())\n",
    "\n",
    "# ✅ Define retriever\n",
    "#retriever = vectorstore.as_retriever(search_type=\"similarity\", search_kwargs={\"k\": 10})\n",
    "retriever = vectorstore.as_retriever(\n",
    "    search_type=\"similarity\",  # <--- not \"similarity\"\n",
    "    search_kwargs={\"k\": 10}\n",
    ")"
   ]
  },
  {
   "cell_type": "code",
   "execution_count": 6,
   "id": "b44926b7",
   "metadata": {},
   "outputs": [
    {
     "name": "stdout",
     "output_type": "stream",
     "text": [
      "\n",
      "--- Retrieved Chunk 0 ---\n",
      "\n",
      "to be carcinogens. The number of naturally occurring chemicals present in the food supply or generated during the process of growing, harvesting, storage and preparation is enormous, probably exceeding one million different chemicals. The long period of latency in humans (the time between carcinogen exposure and tumor appearance may potentially be over 20 years) is the problem behind the identification of carcinogens in humans. This chapter addresses the main types of exogenous chemical carcinogens, their classification and their mode of action, absorption and metabolism, along with the principal tests available for evaluating chemical compounds’ carcinogenicity.\n",
      "\n",
      "--- Retrieved Chunk 1 ---\n",
      "\n",
      "to be carcinogens. The number of naturally occurring chemicals present in the food supply or generated during the process of growing, harvesting, storage and preparation is enormous, probably exceeding one million different chemicals. The long period of latency in humans (the time between carcinogen exposure and tumor appearance may potentially be over 20 years) is the problem behind the identification of carcinogens in humans. This chapter addresses the main types of exogenous chemical carcinogens, their classification and their mode of action, absorption and metabolism, along with the principal tests available for evaluating chemical compounds’ carcinogenicity.\n",
      "\n",
      "--- Retrieved Chunk 2 ---\n",
      "\n",
      "to be carcinogens. The number of naturally occurring chemicals present in the food supply or generated during the process of growing, harvesting, storage and preparation is enormous, probably exceeding one million different chemicals. The long period of latency in humans (the time between carcinogen exposure and tumor appearance may potentially be over 20 years) is the problem behind the identification of carcinogens in humans. This chapter addresses the main types of exogenous chemical carcinogens, their classification and their mode of action, absorption and metabolism, along with the principal tests available for evaluating chemical compounds’ carcinogenicity.\n",
      "\n",
      "--- Retrieved Chunk 3 ---\n",
      "\n",
      "Carcinogenic classification and their mode of action The list of substances known or suspected to cause cancer has been developed by two highly respected agencies: the IARC and the US National Toxicology Program. Other agencies, such as Food and Drug Administration and the National Cancer Institute, may comment on whether a substance may cause cancer and/or\n",
      "\n",
      "--- Retrieved Chunk 4 ---\n",
      "\n",
      "Carcinogenic classification and their mode of action The list of substances known or suspected to cause cancer has been developed by two highly respected agencies: the IARC and the US National Toxicology Program. Other agencies, such as Food and Drug Administration and the National Cancer Institute, may comment on whether a substance may cause cancer and/or\n",
      "\n",
      "--- Retrieved Chunk 5 ---\n",
      "\n",
      "Carcinogenic classification and their mode of action The list of substances known or suspected to cause cancer has been developed by two highly respected agencies: the IARC and the US National Toxicology Program. Other agencies, such as Food and Drug Administration and the National Cancer Institute, may comment on whether a substance may cause cancer and/or\n",
      "\n",
      "--- Retrieved Chunk 6 ---\n",
      "\n",
      "what levels of exposure to a particular substance might be considered acceptable. The list of human carcinogens has increasing over years (26). The IARC has continuously updated the assessments of the chemical agents classified as carcinogenic to humans. This process is frequently complicated by the absence of a systematic method to do it. IARC classification The carcinogenicity of chemical compounds is classified by IARC as: Group 1 (carcinogenic to humans, when the evidence is sufficient), Group 2A (probably carcinogenic to humans, mainly for experimental carcinogens with limited data to humans), Group 2B (possibly carcinogenic to humans, mainly for experimental carcinogens with less than limited evidence from humans and less than sufficient evidence from animals) and Group 3 (not classifiable as to its carcinogenicity to humans, for agents that do not fall into any other category). The last publication of the IARC identified more than 100 agents as Group 1 (4) (Table 16.1).    \n",
      "Table 16.1 List of chemical compounds carcinogenic to human (Group 1) and probably carcinogenic to humans (Group 2A) according to IARC. Group 1 (carcinogenic to human) Group 2A (probably carcinogenic to human) Acetaldehyde Aflatoxins 4-Aminobiphenyl Areca nut Aristolochic acid  Arsenic  Asbestos Azathioprine Benzene Benzidine and dyes metabolized to benzidine Benzo[a]pyrene Beryllium and beryllium compounds Betel quid Bis(chloromethyl)ether and chloromethyl methyl ether (technical-grade)\n",
      "\n",
      "--- Retrieved Chunk 7 ---\n",
      "\n",
      "what levels of exposure to a particular substance might be considered acceptable. The list of human carcinogens has increasing over years (26). The IARC has continuously updated the assessments of the chemical agents classified as carcinogenic to humans. This process is frequently complicated by the absence of a systematic method to do it. IARC classification The carcinogenicity of chemical compounds is classified by IARC as: Group 1 (carcinogenic to humans, when the evidence is sufficient), Group 2A (probably carcinogenic to humans, mainly for experimental carcinogens with limited data to humans), Group 2B (possibly carcinogenic to humans, mainly for experimental carcinogens with less than limited evidence from humans and less than sufficient evidence from animals) and Group 3 (not classifiable as to its carcinogenicity to humans, for agents that do not fall into any other category). The last publication of the IARC identified more than 100 agents as Group 1 (4) (Table 16.1).    \n",
      "Table 16.1 List of chemical compounds carcinogenic to human (Group 1) and probably carcinogenic to humans (Group 2A) according to IARC. Group 1 (carcinogenic to human) Group 2A (probably carcinogenic to human) Acetaldehyde Aflatoxins 4-Aminobiphenyl Areca nut Aristolochic acid  Arsenic  Asbestos Azathioprine Benzene Benzidine and dyes metabolized to benzidine Benzo[a]pyrene Beryllium and beryllium compounds Betel quid Bis(chloromethyl)ether and chloromethyl methyl ether (technical-grade)\n",
      "\n",
      "--- Retrieved Chunk 8 ---\n",
      "\n",
      "what levels of exposure to a particular substance might be considered acceptable. The list of human carcinogens has increasing over years (26). The IARC has continuously updated the assessments of the chemical agents classified as carcinogenic to humans. This process is frequently complicated by the absence of a systematic method to do it. IARC classification The carcinogenicity of chemical compounds is classified by IARC as: Group 1 (carcinogenic to humans, when the evidence is sufficient), Group 2A (probably carcinogenic to humans, mainly for experimental carcinogens with limited data to humans), Group 2B (possibly carcinogenic to humans, mainly for experimental carcinogens with less than limited evidence from humans and less than sufficient evidence from animals) and Group 3 (not classifiable as to its carcinogenicity to humans, for agents that do not fall into any other category). The last publication of the IARC identified more than 100 agents as Group 1 (4) (Table 16.1).    \n",
      "Table 16.1 List of chemical compounds carcinogenic to human (Group 1) and probably carcinogenic to humans (Group 2A) according to IARC. Group 1 (carcinogenic to human) Group 2A (probably carcinogenic to human) Acetaldehyde Aflatoxins 4-Aminobiphenyl Areca nut Aristolochic acid  Arsenic  Asbestos Azathioprine Benzene Benzidine and dyes metabolized to benzidine Benzo[a]pyrene Beryllium and beryllium compounds Betel quid Bis(chloromethyl)ether and chloromethyl methyl ether (technical-grade)\n",
      "\n",
      "--- Retrieved Chunk 9 ---\n",
      "\n",
      "Before the classification as a carcinogen, the carcinogenicity of a chemical compound should be previously assessed by a scientific approach (21). A substance is defined as carcinogenic after an extensive study by researchers. One or more agencies evaluate the evidence and determine it to be a cause of cancer (5). Testing to see if something may induce cancer is often difficult. Experimental assays with animal models and in vitro assays as well as epidemiological studies allow the recognition of carcinogenic chemical compounds and the analysis of many aspects of chemical carcinogenesis. However, these tests do not always give clear answers. In some cases, the compounds seem to be genotoxic in one study or one test only (e.g. only in vitro or in vivo). This is difficult to explain and cause controversial discussions (3). In some cases, the compounds are classified as “likely to cause cancer in humans” without considering the mode of action and dose response, leading to confusion. Labeling chemical compounds as “human carcinogens” does not indicate nothing about the dose-response and the relevance of the risk.  Animal models Studies in animals are important to study the mode of action of the chemical carcinogens and for risk assessment. From an experimental point of view, a chemical compound is considered carcinogenic when its administration to laboratory animals induces a statistically significant increase in the incidence of one or more histological types of neoplasia,\n"
     ]
    }
   ],
   "source": [
    "query = \"How may Chemical carcinogens be classified?\"\n",
    "# Use invoke instead of deprecated method\n",
    "relevant_docs = retriever.invoke(query)\n",
    "\n",
    "# Print contents\n",
    "#for i, doc in enumerate(relevant_docs):\n",
    "#    print(f\"\\n--- Document {i+1} ---\\n\")\n",
    "#    print(doc.page_content)\n",
    "for i, doc in enumerate(relevant_docs):\n",
    "    print(f\"\\n--- Retrieved Chunk {i} ---\\n\")\n",
    "    print(doc.page_content)"
   ]
  },
  {
   "cell_type": "code",
   "execution_count": 4,
   "id": "be002633",
   "metadata": {},
   "outputs": [],
   "source": [
    "for i, doc in enumerate(docs):\n",
    "    if \"Response\" in doc.page_content:\n",
    "        print(f\"\\n--- Chunk {i} ---\\n\")\n",
    "        print(doc.page_content)"
   ]
  },
  {
   "cell_type": "code",
   "execution_count": 5,
   "id": "49f6da34",
   "metadata": {},
   "outputs": [
    {
     "name": "stdout",
     "output_type": "stream",
     "text": [
      "\n",
      "--- Retrieved Chunk 0 ---\n",
      "\n",
      "chromium and nickel), aflatoxins, and nitrosamines (6). Tumor promoters may promote, facilitate or accelerate early steps of carcinogenesis when applied repeatedly after initiators. These compounds usually do not form reactive metabolites, but act by modulating growth or cell death (apoptosis) via\n",
      "\n",
      "--- Retrieved Chunk 1 ---\n",
      "\n",
      "chromium and nickel), aflatoxins, and nitrosamines (6). Tumor promoters may promote, facilitate or accelerate early steps of carcinogenesis when applied repeatedly after initiators. These compounds usually do not form reactive metabolites, but act by modulating growth or cell death (apoptosis) via\n",
      "\n",
      "--- Retrieved Chunk 2 ---\n",
      "\n",
      "chromium and nickel), aflatoxins, and nitrosamines (6). Tumor promoters may promote, facilitate or accelerate early steps of carcinogenesis when applied repeatedly after initiators. These compounds usually do not form reactive metabolites, but act by modulating growth or cell death (apoptosis) via\n",
      "\n",
      "--- Retrieved Chunk 3 ---\n",
      "\n",
      "chromium and nickel), aflatoxins, and nitrosamines (6). Tumor promoters may promote, facilitate or accelerate early steps of carcinogenesis when applied repeatedly after initiators. These compounds usually do not form reactive metabolites, but act by modulating growth or cell death (apoptosis) via\n",
      "\n",
      "--- Retrieved Chunk 4 ---\n",
      "\n",
      "chromium and nickel), aflatoxins, and nitrosamines (6). Tumor promoters may promote, facilitate or accelerate early steps of carcinogenesis when applied repeatedly after initiators. These compounds usually do not form reactive metabolites, but act by modulating growth or cell death (apoptosis) via\n",
      "\n",
      "--- Retrieved Chunk 5 ---\n",
      "\n",
      "chromium and nickel), aflatoxins, and nitrosamines (6). Tumor promoters may promote, facilitate or accelerate early steps of carcinogenesis when applied repeatedly after initiators. These compounds usually do not form reactive metabolites, but act by modulating growth or cell death (apoptosis) via\n",
      "\n",
      "--- Retrieved Chunk 6 ---\n",
      "\n",
      "chromium and nickel), aflatoxins, and nitrosamines (6). Tumor promoters may promote, facilitate or accelerate early steps of carcinogenesis when applied repeatedly after initiators. These compounds usually do not form reactive metabolites, but act by modulating growth or cell death (apoptosis) via\n",
      "\n",
      "--- Retrieved Chunk 7 ---\n",
      "\n",
      "chromium and nickel), aflatoxins, and nitrosamines (6). Tumor promoters may promote, facilitate or accelerate early steps of carcinogenesis when applied repeatedly after initiators. These compounds usually do not form reactive metabolites, but act by modulating growth or cell death (apoptosis) via\n",
      "\n",
      "--- Retrieved Chunk 8 ---\n",
      "\n",
      "chromium and nickel), aflatoxins, and nitrosamines (6). Tumor promoters may promote, facilitate or accelerate early steps of carcinogenesis when applied repeatedly after initiators. These compounds usually do not form reactive metabolites, but act by modulating growth or cell death (apoptosis) via\n",
      "\n",
      "--- Retrieved Chunk 9 ---\n",
      "\n",
      "chromium and nickel), aflatoxins, and nitrosamines (6). Tumor promoters may promote, facilitate or accelerate early steps of carcinogenesis when applied repeatedly after initiators. These compounds usually do not form reactive metabolites, but act by modulating growth or cell death (apoptosis) via\n"
     ]
    }
   ],
   "source": [
    "query = \"What compounds generate Breast cancer?\"\n",
    "# Use invoke instead of deprecated method\n",
    "relevant_docs = retriever.invoke(query)\n",
    "\n",
    "# Print contents\n",
    "for i, doc in enumerate(relevant_docs):\n",
    "    print(f\"\\n--- Retrieved Chunk {i} ---\\n\")\n",
    "    print(doc.page_content)"
   ]
  },
  {
   "cell_type": "code",
   "execution_count": null,
   "id": "b0039987",
   "metadata": {},
   "outputs": [],
   "source": []
  }
 ],
 "metadata": {
  "kernelspec": {
   "display_name": "venv",
   "language": "python",
   "name": "venv"
  },
  "language_info": {
   "codemirror_mode": {
    "name": "ipython",
    "version": 3
   },
   "file_extension": ".py",
   "mimetype": "text/x-python",
   "name": "python",
   "nbconvert_exporter": "python",
   "pygments_lexer": "ipython3",
   "version": "3.11.9"
  }
 },
 "nbformat": 4,
 "nbformat_minor": 5
}
