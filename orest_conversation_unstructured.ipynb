{
 "cells": [
  {
   "cell_type": "code",
   "execution_count": null,
   "id": "a6dba2fd",
   "metadata": {},
   "outputs": [],
   "source": [
    "import boto3\n",
    "\n",
    "bedrock_agent = boto3.client(\"bedrock-agent\")\n",
    "bedrock_runtime = boto3.client(\"bedrock-agent-runtime\")\n",
    "\n",
    "model_arn = \"arn:aws:bedrock:eu-west-2::foundation-model/anthropic.claude-3-sonnet-20240229-v1:0\"\n",
    "knowledge_base_id = \"ZTPJ2E7RTK\"  # Your Knowledge Base ID\n",
    "\n",
    "response = bedrock_runtime.retrieve_and_generate(\n",
    "    input={\"text\": \"What is the carcinogenic pottential of Omeprazole?\"},\n",
    "    retrieveAndGenerateConfiguration={\n",
    "        \"type\": \"KNOWLEDGE_BASE\",\n",
    "        \"knowledgeBaseConfiguration\": {\n",
    "            \"knowledgeBaseId\": knowledge_base_id,\n",
    "            \"modelArn\": model_arn\n",
    "            # You can add an optional \"generationConfiguration\" dict here if needed for custom settings\n",
    "        }\n",
    "    },\n",
    "    #sessionId=\"user123-session-001\"\n",
    ")\n",
    "\n",
    "print(response[\"output\"][\"text\"])\n",
    "\n",
    "citations = response.get(\"citations\", [])\n",
    "for citation in citations:\n",
    "    for ref in citation.get(\"retrievedReferences\", []):\n",
    "        print(ref[\"location\"][\"s3Location\"][\"uri\"])\n",
    "session_id = response.get(\"sessionId\")\n",
    "print(\"New session started:\", session_id)"
   ]
  },
  {
   "cell_type": "code",
   "execution_count": null,
   "id": "264107d8",
   "metadata": {},
   "outputs": [],
   "source": [
    "def continue_conversation(question, session_id=None):\n",
    "    import boto3\n",
    "    brt = boto3.client(\"bedrock-agent-runtime\", region_name=\"eu-west-2\")\n",
    "    # Base request\n",
    "    request = {\n",
    "        \"input\": {\"text\": question},\n",
    "        \"retrieveAndGenerateConfiguration\": {\n",
    "            \"type\": \"KNOWLEDGE_BASE\",\n",
    "            \"knowledgeBaseConfiguration\": {\n",
    "                \"knowledgeBaseId\": \"ZTPJ2E7RTK\",\n",
    "                \"modelArn\": \"arn:aws:bedrock:eu-west-2::foundation-model/anthropic.claude-3-sonnet-20240229-v1:0\"\n",
    "            }\n",
    "        }\n",
    "    }\n",
    "    # Add sessionId only if it's provided\n",
    "    if session_id:\n",
    "        request[\"sessionId\"] = session_id\n",
    "    response = brt.retrieve_and_generate(**request)\n",
    "    # Print the generated answer\n",
    "    print(\"\\n🧠 Answer:\\n\")\n",
    "    print(response[\"output\"][\"text\"])\n",
    "    # Print citations\n",
    "    print(\"\\n📚 Citations:\\n\")\n",
    "    citations = response.get(\"citations\", [])\n",
    "    if not citations:\n",
    "        print(\"No citations found.\")\n",
    "    else:\n",
    "        for c in citations:\n",
    "            for ref in c.get(\"retrievedReferences\", []):\n",
    "                uri = ref.get(\"location\", {}).get(\"s3Location\", {}).get(\"uri\", \"\")\n",
    "                snippet = ref.get(\"content\", {}).get(\"text\", \"\")\n",
    "                print(f\"- {uri}\")\n",
    "                if snippet:\n",
    "                    print(f\"  → Snippet: {snippet[:200]}...\\n\")\n",
    "    # Show session ID (in case it's new)\n",
    "    print(\"\\n🧾 Session ID:\", response.get(\"sessionId\", \"[not returned]\"))"
   ]
  },
  {
   "cell_type": "code",
   "execution_count": null,
   "id": "994da92c",
   "metadata": {},
   "outputs": [],
   "source": [
    "answer = continue_conversation(\"compare it with Pantoprazole!\", \"5e6af1ea-c376-4fdc-a43e-c41133efbdcb\")\n",
    "print(answer)"
   ]
  },
  {
   "cell_type": "markdown",
   "id": "cc4d3855",
   "metadata": {},
   "source": [
    "🧠 Answer:\n",
    "\n",
    "Based on the search results, there is some evidence that both omeprazole and pantoprazole may have carcinogenic potential in rodents, but their carcinogenic potential in humans is not definitively established. Omeprazole has been reported to induce unscheduled DNA synthesis in the gastric mucosa of rodents, suggesting it may be a potential genotoxic carcinogen, possibly due to an unstable sulphenimide metabolite (source 2). Pantoprazole has shown positive carcinogenic effects in rats and mice, causing stomach, liver, and thyroid tumors in rodent studies (source 4). However, the evidence regarding carcinogenicity in humans is less clear. Source 4 notes that FDA labels for both omeprazole and pantoprazole include a precaution about potential gastric malignancy, but definitive conclusions cannot be drawn. More studies are needed to determine if the carcinogenic effects observed in rodents translate to humans taking these drugs (source 1).\n",
    "\n",
    "📚 Citations:\n",
    "\n",
    "- s3://lhasalimited-gen-ai-unstructured-data-store-transform/pubmed/1795642.txt\n",
    "  → Snippet: Because of its reported ability to induce unscheduled DNA synthesis in the gastric mucosa, the safety of omeprazole, a potentially clinically useful anti-ulcer drug, has been the subject of debate. We...\n",
    "\n",
    "- s3://lhasalimited-gen-ai-unstructured-data-store-transform/zotero-papers/Computational Toxicology/Stalford et al. - 2024 - Structuring expert review using AOPs Enabling rob.pdf\n",
    "  → Snippet: Table 2 Carcinogenicity data for compounds pharmacologically similar to Lansoprazole.     Similar Compound Carcinogenicity FDA Labels/Reviews     Omeprazole Rat – stomach (gastric mucosa) [21,41,42] G...\n",
    "\n",
    "- s3://lhasalimited-gen-ai-unstructured-data-store-transform/pubmed/25983631.pdf\n",
    "  → Snippet: c C on     si de     ri ng     th e     m w     h cl     on es     fo r     th e     si ng     le sp     ot s     an d     m w     h fo     r th     e tw     in sp     ot s.     d F re     qu en     c...\n",
    "\n",
    "- s3://lhasalimited-gen-ai-unstructured-data-store-transform/zotero-papers/Computational Toxicology/Stalford et al. - 2024 - Structuring expert review using AOPs Enabling rob.pdf\n",
    "  → Snippet: Table 2 Carcinogenicity data for compounds pharmacologically similar to Lansoprazole.     Similar Compound Carcinogenicity FDA Labels/Reviews     Omeprazole Rat – stomach (gastric mucosa) [21,41,42] G..."
   ]
  }
 ],
 "metadata": {
  "language_info": {
   "name": "python"
  }
 },
 "nbformat": 4,
 "nbformat_minor": 5
}
